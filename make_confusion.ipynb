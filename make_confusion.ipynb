{
 "cells": [
  {
   "cell_type": "code",
   "execution_count": 8,
   "id": "final-princeton",
   "metadata": {},
   "outputs": [],
   "source": [
    "import os\n",
    "import numpy as np\n",
    "import random\n",
    "import pandas as pd\n",
    "import torch\n",
    "import torch.nn as nn"
   ]
  },
  {
   "cell_type": "code",
   "execution_count": 2,
   "id": "peripheral-netscape",
   "metadata": {},
   "outputs": [],
   "source": [
    "from factory.LstmDV import D_VECTOR"
   ]
  },
  {
   "cell_type": "code",
   "execution_count": 3,
   "id": "adolescent-revelation",
   "metadata": {},
   "outputs": [],
   "source": [
    "ROOT = 'spmel'\n",
    "sample_uttr_idx = 15\n",
    "max_uttr_idx = 49"
   ]
  },
  {
   "cell_type": "code",
   "execution_count": 4,
   "id": "peripheral-drive",
   "metadata": {},
   "outputs": [],
   "source": [
    "all_speaker = next(iter(os.walk(f'{ROOT}')))[1]\n",
    "num_speaker= int(len(all_speaker))\n",
    "result = np.zeros((num_speaker,num_speaker))\n",
    "C = torch.load('dv_7000_1_21.pt').to('cuda:0')"
   ]
  },
  {
   "cell_type": "code",
   "execution_count": 5,
   "id": "loose-discharge",
   "metadata": {},
   "outputs": [],
   "source": [
    "all_dv = []\n",
    "for i in range(num_speaker):\n",
    "    all_uttr = next(iter(os.walk(f'{ROOT}/{i}')))[2][:sample_uttr_idx]\n",
    "    tmp_dv = torch.zeros((1,256))\n",
    "    for uttr in all_uttr:\n",
    "        mel = torch.from_numpy(np.load(f'{ROOT}/{i}/{uttr}')).unsqueeze(0).cuda()\n",
    "        tmp_dv += C(mel).detach().cpu().numpy()\n",
    "    all_dv.append(tmp_dv/(sample_uttr_idx+1))"
   ]
  },
  {
   "cell_type": "code",
   "execution_count": 9,
   "id": "intellectual-philippines",
   "metadata": {
    "scrolled": true,
    "tags": []
   },
   "outputs": [
    {
     "name": "stdout",
     "output_type": "stream",
     "text": [
      "Now --- 0\n",
      "Now --- 1\n",
      "Now --- 2\n",
      "Now --- 3\n",
      "Now --- 4\n",
      "Now --- 5\n",
      "Now --- 6\n",
      "Now --- 7\n",
      "Now --- 8\n",
      "Now --- 9\n",
      "Now --- 10\n",
      "Now --- 11\n",
      "Now --- 12\n",
      "Now --- 13\n",
      "Now --- 14\n",
      "Now --- 15\n",
      "Now --- 16\n",
      "Now --- 17\n",
      "Now --- 18\n",
      "Now --- 19\n",
      "Now --- 20\n",
      "Now --- 21\n",
      "Now --- 22\n",
      "Now --- 23\n",
      "Now --- 24\n",
      "Now --- 25\n",
      "Now --- 26\n",
      "Now --- 27\n",
      "Now --- 28\n",
      "Now --- 29\n",
      "Now --- 30\n",
      "Now --- 31\n",
      "Now --- 32\n",
      "Now --- 33\n",
      "Now --- 34\n",
      "Now --- 35\n",
      "Now --- 36\n",
      "Now --- 37\n",
      "Now --- 38\n",
      "Now --- 39\n",
      "Now --- 40\n",
      "Now --- 41\n"
     ]
    }
   ],
   "source": [
    "for j,dv in enumerate(all_dv):\n",
    "    print(f\"Now --- {j}\")\n",
    "    for i in range(num_speaker):\n",
    "        random_uttr = next(iter(os.walk(f'{ROOT}/{i}')))[2][random.randint(sample_uttr_idx,max_uttr_idx)]\n",
    "        mel = torch.from_numpy(np.load(f'{ROOT}/{i}/{random_uttr}')).unsqueeze(0).cuda()\n",
    "        t_dv = C(mel).detach().cpu()\n",
    "        cos = nn.functional.cosine_similarity(dv,t_dv, dim=1, eps=1e-8)\n",
    "        result[i][j] = cos"
   ]
  },
  {
   "cell_type": "code",
   "execution_count": 14,
   "id": "professional-controversy",
   "metadata": {},
   "outputs": [
    {
     "data": {
      "image/png": "[encoded data removed]",
      "text/plain": [
       "<Figure size 432x288 with 2 Axes>"
      ]
     },
     "metadata": {
      "needs_background": "light"
     },
     "output_type": "display_data"
    }
   ],
   "source": [
    "import seaborn as sns\n",
    "import matplotlib.pylab as plt\n",
    "ax = sns.heatmap(result)\n",
    "plt.show()"
   ]
  },
  {
   "cell_type": "code",
   "execution_count": 10,
   "id": "humanitarian-needle",
   "metadata": {},
   "outputs": [],
   "source": [
    "my_dataframe = pd.DataFrame(result)\n",
    "writer = pd.ExcelWriter('dv_result.xlsx')\n",
    "my_dataframe.to_excel(writer)\n",
    "writer.save()"
   ]
  }
 ],
 "metadata": {
  "kernelspec": {
   "display_name": "Python 3",
   "language": "python",
   "name": "python3"
  },
  "language_info": {
   "codemirror_mode": {
    "name": "ipython",
    "version": 3
   },
   "file_extension": ".py",
   "mimetype": "text/x-python",
   "name": "python",
   "nbconvert_exporter": "python",
   "pygments_lexer": "ipython3",
   "version": "3.7.9"
  }
 },
 "nbformat": 4,
 "nbformat_minor": 5
}
