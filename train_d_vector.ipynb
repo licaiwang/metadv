{
 "cells": [
  {
   "cell_type": "code",
   "execution_count": 1,
   "metadata": {},
   "outputs": [],
   "source": [
    "import torch\n",
    "import torch.nn as nn\n",
    "import torch.nn.functional as F\n",
    "import torch.optim as optim\n",
    "import numpy as np\n",
    "import os"
   ]
  },
  {
   "cell_type": "code",
   "execution_count": 2,
   "metadata": {},
   "outputs": [],
   "source": [
    "#from factory.LstmDV import LstmDV as D_VECTOR\n",
    "#from factory.MetaDV import MetaDV as D_VECTOR\n",
    "from factory.deepspeach import DeepSpeaker as D_VECTOR\n",
    "from util.Dataloader import generate_dataset"
   ]
  },
  {
   "cell_type": "code",
   "execution_count": 3,
   "metadata": {},
   "outputs": [],
   "source": [
    "num_uttrs = 200\n",
    "len_crop = 256\n",
    "batch_size = 32\n",
    "num_classes = 80\n",
    "use_shuffle = True\n",
    "isDeepSpeaker = True\n",
    "save_name = \"metadv_vctk80.pt\""
   ]
  },
  {
   "cell_type": "code",
   "execution_count": 4,
   "metadata": {},
   "outputs": [],
   "source": [
    "d_vector = D_VECTOR(num_classes).to('cuda:0')\n",
    "optimizer = torch.optim.Adam(d_vector.parameters(), 1e-4) \n",
    "criterion = nn.CrossEntropyLoss()"
   ]
  },
  {
   "cell_type": "code",
   "execution_count": 5,
   "metadata": {
    "scrolled": true,
    "tags": []
   },
   "outputs": [
    {
     "name": "stdout",
     "output_type": "stream",
     "text": [
      "Found directory: train_spmel_vctk80\n",
      "Processing speaker: p225\n"
     ]
    }
   ],
   "source": [
    "train_loader = generate_dataset(rootDir='train_spmel_vctk80',len_crop=len_crop,num_uttrs=num_uttrs, batch_size=batch_size,use_shuffle=use_shuffle)"
   ]
  },
  {
   "cell_type": "code",
   "execution_count": 6,
   "metadata": {},
   "outputs": [],
   "source": [
    "epochs = 1"
   ]
  },
  {
   "cell_type": "code",
   "execution_count": 7,
   "metadata": {
    "scrolled": true,
    "tags": []
   },
   "outputs": [
    {
     "name": "stdout",
     "output_type": "stream",
     "text": [
      "AVE LOSS --- 3.1548349176134383\n",
      "ACC --- 58.35267857142857\n"
     ]
    }
   ],
   "source": [
    "early_stop_count = 0\n",
    "early_repeate = 3\n",
    "last_loss = 100.0\n",
    "for epoch in range(epochs):\n",
    "    n_correct,n_total,train_loss,train_acc,counter = 0,0,0,0,0\n",
    "    for data in train_loader:\n",
    "        inputs, targets = data\n",
    "        targets = targets.view(-1).long()\n",
    "        if isDeepSpeaker:\n",
    "            inputs = inputs.transpose(1,-1)\n",
    "        current_sample = inputs.size(0)  \n",
    "        output,_ = d_vector(inputs)\n",
    "        n_correct += (torch.max(output, 1)[1].long().view(targets.size()) == targets).sum().item()\n",
    "        n_total += current_sample\n",
    "        train_acc_temp = 100. * n_correct / n_total\n",
    "        loss = criterion(output, targets)\n",
    "        train_loss += loss.item()\n",
    "        train_acc += train_acc_temp\n",
    "        optimizer.zero_grad()\n",
    "        loss.backward()\n",
    "        optimizer.step()\n",
    "        counter += 1\n",
    "    if epoch == 0:\n",
    "        last_loss = (train_loss/counter)\n",
    "    elif last_loss > (train_loss/counter):\n",
    "        last_loss =  train_loss/counter\n",
    "        early_stop_count = 0\n",
    "    else:\n",
    "        last_loss =  train_loss/counter\n",
    "        early_stop_count += 1\n",
    "        \n",
    "        \n",
    "    print(f\"AVE LOSS --- {train_loss/counter}\")\n",
    "    print(f\"ACC --- {train_acc/counter}\")\n",
    "    \n",
    "    if early_stop_count == early_repeate:\n",
    "        print(\"*************************\")\n",
    "        print(f\" Training Stop at epoch --- {epoch}\")\n",
    "        print(f\" Final AVE LOSS --- {train_loss/counter}\")\n",
    "        print(f\" Final ACC --- {train_acc/counter}\")\n",
    "        print(\"*************************\")\n",
    "        break"
   ]
  },
  {
   "cell_type": "code",
   "execution_count": 8,
   "metadata": {},
   "outputs": [],
   "source": [
    "torch.save(d_vector,save_name)"
   ]
  },
  {
   "cell_type": "code",
   "execution_count": null,
   "metadata": {},
   "outputs": [],
   "source": []
  }
 ],
 "metadata": {
  "kernelspec": {
   "display_name": "Python 3",
   "language": "python",
   "name": "python3"
  },
  "language_info": {
   "codemirror_mode": {
    "name": "ipython",
    "version": 3
   },
   "file_extension": ".py",
   "mimetype": "text/x-python",
   "name": "python",
   "nbconvert_exporter": "python",
   "pygments_lexer": "ipython3",
   "version": "3.7.9"
  }
 },
 "nbformat": 4,
 "nbformat_minor": 5
}
